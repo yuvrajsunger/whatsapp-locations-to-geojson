{
 "cells": [
  {
   "cell_type": "code",
   "execution_count": null,
   "id": "introductory-syndicate",
   "metadata": {},
   "outputs": [],
   "source": [
    "# module re, datetime, pandas and geopandas\n",
    "import re, datetime\n",
    "import pandas as pd\n",
    "import geopandas as gpd"
   ]
  },
  {
   "cell_type": "code",
   "execution_count": null,
   "id": "filled-polyester",
   "metadata": {},
   "outputs": [],
   "source": [
    "# load rawChat data from chat text file\n",
    "with open(\"your_whatsapp_chat.txt\", \"r\", encoding=\"utf8\") as f:\n",
    "    rawChat = f.readlines()\n",
    "\n",
    "# filter lines with location from chat\n",
    "chat = []\n",
    "for line in rawChat:\n",
    "    if \"location: \" in line:\n",
    "        chat.append(line)"
   ]
  },
  {
   "cell_type": "code",
   "execution_count": null,
   "id": "narrative-extra",
   "metadata": {},
   "outputs": [],
   "source": [
    "# function for converting chatlines to Final list\n",
    "chatList = []\n",
    "\n",
    "for line in chat:\n",
    "    try:\n",
    "        #chat line split\n",
    "        chat_break = re.split(',\\ |\\ -\\ |:\\ ', line)\n",
    "        # join date and time\n",
    "        separator = \" \"\n",
    "        dateTime = separator.join(chat_break[0: 2])\n",
    "        # convert to date time stamp\n",
    "        dateTime = datetime.datetime.strptime(dateTime, '%d/%m/%y %I:%M %p')\n",
    "        # mobile number country code removal and space replace\n",
    "        number = chat_break[2][4:].replace(\" \",\"\")\n",
    "        # extract coordinates from location URL\n",
    "        coord = re.split('=', chat_break[-1])[-1][0:-1]\n",
    "        # split coordinates to lat lng\n",
    "        lat, lng = float(re.split(',', coord)[0]), float(re.split(',', coord)[1])\n",
    "        # location URL\n",
    "        locationURL = chat_break[-1][0:-1]\n",
    "        # put heading into list for adding to final list\n",
    "        hList = [dateTime, number, lat, lng, locationURL]\n",
    "        # appending hList into chatList\n",
    "        chatList.append(hList)\n",
    "    except:\n",
    "        continue"
   ]
  },
  {
   "cell_type": "code",
   "execution_count": null,
   "id": "entitled-message",
   "metadata": {},
   "outputs": [],
   "source": [
    "# chat list to pandas dataframe and geodataframe\n",
    "columns = ['dateTime', 'mobNumber', 'lat', 'lng', 'locationURL']\n",
    "chatdf = pd.DataFrame(chatList, columns=columns)\n",
    "chatgdf = gpd.GeoDataFrame(chatdf, geometry= gpd.points_from_xy(chatdf.lng, chatdf.lat))"
   ]
  },
  {
   "cell_type": "code",
   "execution_count": null,
   "id": "solid-manner",
   "metadata": {},
   "outputs": [],
   "source": [
    "# chat dataframe to csv\n",
    "chatdf.to_csv(\"your_whatsapp_chat.csv\", index=False)"
   ]
  },
  {
   "cell_type": "code",
   "execution_count": null,
   "id": "digital-environment",
   "metadata": {},
   "outputs": [],
   "source": [
    "#chat dataframe to shp\n",
    "chatgdf.to_file(\"your_whatsapp_chat.geojson\", driver='GeoJSON')"
   ]
  }
 ],
 "metadata": {
  "kernelspec": {
   "display_name": "Python 3",
   "language": "python",
   "name": "python3"
  },
  "language_info": {
   "codemirror_mode": {
    "name": "ipython",
    "version": 3
   },
   "file_extension": ".py",
   "mimetype": "text/x-python",
   "name": "python",
   "nbconvert_exporter": "python",
   "pygments_lexer": "ipython3",
   "version": "3.8.5"
  }
 },
 "nbformat": 4,
 "nbformat_minor": 5
}
